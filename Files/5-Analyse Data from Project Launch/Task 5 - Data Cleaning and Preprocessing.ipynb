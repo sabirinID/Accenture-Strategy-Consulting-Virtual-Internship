{
 "cells": [
  {
   "cell_type": "markdown",
   "metadata": {},
   "source": [
    "# Data Cleaning and Preprocessing\n",
    "\n",
    "## Import the Packages"
   ]
  },
  {
   "cell_type": "code",
   "execution_count": 1,
   "metadata": {},
   "outputs": [],
   "source": [
    "# Data manipulation\n",
    "import numpy as np\n",
    "import pandas as pd\n",
    "import datetime as dt\n",
    "\n",
    "# Data visualization\n",
    "import matplotlib as mpl\n",
    "import matplotlib.pyplot as plt\n",
    "import seaborn as sns\n",
    "\n",
    "# Shows plots in jupyter notebook\n",
    "%matplotlib inline\n",
    "\n",
    "# Set plot style\n",
    "sns.set(color_codes=True)\n",
    "\n",
    "# Ignore warning\n",
    "import warnings\n",
    "warnings.filterwarnings('ignore')"
   ]
  },
  {
   "cell_type": "code",
   "execution_count": 2,
   "metadata": {},
   "outputs": [],
   "source": [
    "pd.set_option('display.max_columns', None)\n",
    "pd.set_option('display.max_rows', None)"
   ]
  },
  {
   "cell_type": "code",
   "execution_count": 3,
   "metadata": {},
   "outputs": [
    {
     "name": "stdout",
     "output_type": "stream",
     "text": [
      "NumPy 1.23.5\n",
      "Pandas 2.0.1\n",
      "Matplotlib 3.7.1\n",
      "Seaborn 0.12.2\n"
     ]
    }
   ],
   "source": [
    "print('NumPy', np.__version__)\n",
    "print('Pandas', pd.__version__)\n",
    "print('Matplotlib', mpl.__version__)\n",
    "print('Seaborn', sns.__version__)"
   ]
  },
  {
   "cell_type": "markdown",
   "metadata": {},
   "source": [
    "---\n",
    "## Load the Data"
   ]
  },
  {
   "cell_type": "code",
   "execution_count": 4,
   "metadata": {},
   "outputs": [],
   "source": [
    "link = 'https://github.com/sabirinID/Accenture-Strategy-Consulting-Virtual-Internship/raw/main/Files/5-Analyse%20Data%20from%20Project%20Launch/Task%205%20-%20Forage%20Accenture%20BNPL%20Dataset.xlsx'\n",
    "\n",
    "df = pd.read_excel(link, header=0)"
   ]
  },
  {
   "cell_type": "code",
   "execution_count": 5,
   "metadata": {},
   "outputs": [
    {
     "data": {
      "text/html": [
       "<div>\n",
       "<style scoped>\n",
       "    .dataframe tbody tr th:only-of-type {\n",
       "        vertical-align: middle;\n",
       "    }\n",
       "\n",
       "    .dataframe tbody tr th {\n",
       "        vertical-align: top;\n",
       "    }\n",
       "\n",
       "    .dataframe thead th {\n",
       "        text-align: right;\n",
       "    }\n",
       "</style>\n",
       "<table border=\"1\" class=\"dataframe\">\n",
       "  <thead>\n",
       "    <tr style=\"text-align: right;\">\n",
       "      <th></th>\n",
       "      <th>order_ref</th>\n",
       "      <th>user_id</th>\n",
       "      <th>user_age</th>\n",
       "      <th>transaction_amount</th>\n",
       "      <th>payment_method</th>\n",
       "    </tr>\n",
       "  </thead>\n",
       "  <tbody>\n",
       "    <tr>\n",
       "      <th>0</th>\n",
       "      <td>1132281533</td>\n",
       "      <td>I0rmuuMuhEvJNM57</td>\n",
       "      <td>34</td>\n",
       "      <td>184.34</td>\n",
       "      <td>card</td>\n",
       "    </tr>\n",
       "    <tr>\n",
       "      <th>1</th>\n",
       "      <td>3969891453</td>\n",
       "      <td>qS2JZuEAEDsOP2Gx</td>\n",
       "      <td>50</td>\n",
       "      <td>342.49</td>\n",
       "      <td>bnpl</td>\n",
       "    </tr>\n",
       "    <tr>\n",
       "      <th>2</th>\n",
       "      <td>4151458626</td>\n",
       "      <td>RpV4Uu1dEszTCOEM</td>\n",
       "      <td>47</td>\n",
       "      <td>146.51</td>\n",
       "      <td>bnpl</td>\n",
       "    </tr>\n",
       "  </tbody>\n",
       "</table>\n",
       "</div>"
      ],
      "text/plain": [
       "    order_ref           user_id  user_age  transaction_amount payment_method\n",
       "0  1132281533  I0rmuuMuhEvJNM57        34              184.34           card\n",
       "1  3969891453  qS2JZuEAEDsOP2Gx        50              342.49           bnpl\n",
       "2  4151458626  RpV4Uu1dEszTCOEM        47              146.51           bnpl"
      ]
     },
     "execution_count": 5,
     "metadata": {},
     "output_type": "execute_result"
    }
   ],
   "source": [
    "df.head(3)"
   ]
  },
  {
   "cell_type": "code",
   "execution_count": 6,
   "metadata": {},
   "outputs": [
    {
     "data": {
      "text/html": [
       "<div>\n",
       "<style scoped>\n",
       "    .dataframe tbody tr th:only-of-type {\n",
       "        vertical-align: middle;\n",
       "    }\n",
       "\n",
       "    .dataframe tbody tr th {\n",
       "        vertical-align: top;\n",
       "    }\n",
       "\n",
       "    .dataframe thead th {\n",
       "        text-align: right;\n",
       "    }\n",
       "</style>\n",
       "<table border=\"1\" class=\"dataframe\">\n",
       "  <thead>\n",
       "    <tr style=\"text-align: right;\">\n",
       "      <th></th>\n",
       "      <th>order_ref</th>\n",
       "      <th>user_id</th>\n",
       "      <th>user_age</th>\n",
       "      <th>transaction_amount</th>\n",
       "      <th>payment_method</th>\n",
       "    </tr>\n",
       "  </thead>\n",
       "  <tbody>\n",
       "    <tr>\n",
       "      <th>296</th>\n",
       "      <td>4547464795</td>\n",
       "      <td>ccsFZwawm475aTiw</td>\n",
       "      <td>24</td>\n",
       "      <td>210.43</td>\n",
       "      <td>paypal</td>\n",
       "    </tr>\n",
       "    <tr>\n",
       "      <th>297</th>\n",
       "      <td>6752905764</td>\n",
       "      <td>9V5cb1KKRXigAt2E</td>\n",
       "      <td>25</td>\n",
       "      <td>137.26</td>\n",
       "      <td>paypal</td>\n",
       "    </tr>\n",
       "    <tr>\n",
       "      <th>298</th>\n",
       "      <td>3989227284</td>\n",
       "      <td>kDK4Vp6KTf1LUV5d</td>\n",
       "      <td>49</td>\n",
       "      <td>185.29</td>\n",
       "      <td>paypal</td>\n",
       "    </tr>\n",
       "  </tbody>\n",
       "</table>\n",
       "</div>"
      ],
      "text/plain": [
       "      order_ref           user_id  user_age  transaction_amount payment_method\n",
       "296  4547464795  ccsFZwawm475aTiw        24              210.43         paypal\n",
       "297  6752905764  9V5cb1KKRXigAt2E        25              137.26         paypal\n",
       "298  3989227284  kDK4Vp6KTf1LUV5d        49              185.29         paypal"
      ]
     },
     "execution_count": 6,
     "metadata": {},
     "output_type": "execute_result"
    }
   ],
   "source": [
    "df.tail(3)"
   ]
  },
  {
   "cell_type": "code",
   "execution_count": 7,
   "metadata": {},
   "outputs": [
    {
     "name": "stdout",
     "output_type": "stream",
     "text": [
      "<class 'pandas.core.frame.DataFrame'>\n",
      "RangeIndex: 299 entries, 0 to 298\n",
      "Data columns (total 5 columns):\n",
      " #   Column              Non-Null Count  Dtype  \n",
      "---  ------              --------------  -----  \n",
      " 0   order_ref           299 non-null    int64  \n",
      " 1   user_id             299 non-null    object \n",
      " 2   user_age            299 non-null    int64  \n",
      " 3   transaction_amount  299 non-null    float64\n",
      " 4   payment_method      299 non-null    object \n",
      "dtypes: float64(1), int64(2), object(2)\n",
      "memory usage: 11.8+ KB\n"
     ]
    }
   ],
   "source": [
    "df.info()"
   ]
  },
  {
   "cell_type": "markdown",
   "metadata": {},
   "source": [
    "---\n",
    "## Clean and Preprocess the Data"
   ]
  },
  {
   "cell_type": "markdown",
   "metadata": {},
   "source": [
    "### Check the data for missing values, outliers, or errors"
   ]
  },
  {
   "cell_type": "code",
   "execution_count": 8,
   "metadata": {},
   "outputs": [
    {
     "data": {
      "text/plain": [
       "0"
      ]
     },
     "execution_count": 8,
     "metadata": {},
     "output_type": "execute_result"
    }
   ],
   "source": [
    "df.isna().sum().sum()"
   ]
  },
  {
   "cell_type": "code",
   "execution_count": 9,
   "metadata": {},
   "outputs": [
    {
     "data": {
      "text/plain": [
       "0"
      ]
     },
     "execution_count": 9,
     "metadata": {},
     "output_type": "execute_result"
    }
   ],
   "source": [
    "df.duplicated().sum()"
   ]
  },
  {
   "cell_type": "code",
   "execution_count": 10,
   "metadata": {},
   "outputs": [
    {
     "data": {
      "text/html": [
       "<div>\n",
       "<style scoped>\n",
       "    .dataframe tbody tr th:only-of-type {\n",
       "        vertical-align: middle;\n",
       "    }\n",
       "\n",
       "    .dataframe tbody tr th {\n",
       "        vertical-align: top;\n",
       "    }\n",
       "\n",
       "    .dataframe thead th {\n",
       "        text-align: right;\n",
       "    }\n",
       "</style>\n",
       "<table border=\"1\" class=\"dataframe\">\n",
       "  <thead>\n",
       "    <tr style=\"text-align: right;\">\n",
       "      <th></th>\n",
       "      <th>order_ref</th>\n",
       "      <th>user_id</th>\n",
       "      <th>user_age</th>\n",
       "      <th>transaction_amount</th>\n",
       "      <th>payment_method</th>\n",
       "    </tr>\n",
       "  </thead>\n",
       "  <tbody>\n",
       "    <tr>\n",
       "      <th>count</th>\n",
       "      <td>2.990000e+02</td>\n",
       "      <td>299</td>\n",
       "      <td>299.000000</td>\n",
       "      <td>299.000000</td>\n",
       "      <td>299</td>\n",
       "    </tr>\n",
       "    <tr>\n",
       "      <th>unique</th>\n",
       "      <td>NaN</td>\n",
       "      <td>299</td>\n",
       "      <td>NaN</td>\n",
       "      <td>NaN</td>\n",
       "      <td>3</td>\n",
       "    </tr>\n",
       "    <tr>\n",
       "      <th>top</th>\n",
       "      <td>NaN</td>\n",
       "      <td>I0rmuuMuhEvJNM57</td>\n",
       "      <td>NaN</td>\n",
       "      <td>NaN</td>\n",
       "      <td>bnpl</td>\n",
       "    </tr>\n",
       "    <tr>\n",
       "      <th>freq</th>\n",
       "      <td>NaN</td>\n",
       "      <td>1</td>\n",
       "      <td>NaN</td>\n",
       "      <td>NaN</td>\n",
       "      <td>119</td>\n",
       "    </tr>\n",
       "    <tr>\n",
       "      <th>mean</th>\n",
       "      <td>5.640905e+09</td>\n",
       "      <td>NaN</td>\n",
       "      <td>32.334448</td>\n",
       "      <td>214.076990</td>\n",
       "      <td>NaN</td>\n",
       "    </tr>\n",
       "    <tr>\n",
       "      <th>std</th>\n",
       "      <td>2.645584e+09</td>\n",
       "      <td>NaN</td>\n",
       "      <td>10.075646</td>\n",
       "      <td>76.846945</td>\n",
       "      <td>NaN</td>\n",
       "    </tr>\n",
       "    <tr>\n",
       "      <th>min</th>\n",
       "      <td>1.012455e+09</td>\n",
       "      <td>NaN</td>\n",
       "      <td>18.000000</td>\n",
       "      <td>83.210000</td>\n",
       "      <td>NaN</td>\n",
       "    </tr>\n",
       "    <tr>\n",
       "      <th>25%</th>\n",
       "      <td>3.395445e+09</td>\n",
       "      <td>NaN</td>\n",
       "      <td>23.000000</td>\n",
       "      <td>146.510000</td>\n",
       "      <td>NaN</td>\n",
       "    </tr>\n",
       "    <tr>\n",
       "      <th>50%</th>\n",
       "      <td>5.775407e+09</td>\n",
       "      <td>NaN</td>\n",
       "      <td>33.000000</td>\n",
       "      <td>218.110000</td>\n",
       "      <td>NaN</td>\n",
       "    </tr>\n",
       "    <tr>\n",
       "      <th>75%</th>\n",
       "      <td>7.951907e+09</td>\n",
       "      <td>NaN</td>\n",
       "      <td>41.000000</td>\n",
       "      <td>275.840000</td>\n",
       "      <td>NaN</td>\n",
       "    </tr>\n",
       "    <tr>\n",
       "      <th>max</th>\n",
       "      <td>9.957239e+09</td>\n",
       "      <td>NaN</td>\n",
       "      <td>50.000000</td>\n",
       "      <td>348.820000</td>\n",
       "      <td>NaN</td>\n",
       "    </tr>\n",
       "  </tbody>\n",
       "</table>\n",
       "</div>"
      ],
      "text/plain": [
       "           order_ref           user_id    user_age  transaction_amount   \n",
       "count   2.990000e+02               299  299.000000          299.000000  \\\n",
       "unique           NaN               299         NaN                 NaN   \n",
       "top              NaN  I0rmuuMuhEvJNM57         NaN                 NaN   \n",
       "freq             NaN                 1         NaN                 NaN   \n",
       "mean    5.640905e+09               NaN   32.334448          214.076990   \n",
       "std     2.645584e+09               NaN   10.075646           76.846945   \n",
       "min     1.012455e+09               NaN   18.000000           83.210000   \n",
       "25%     3.395445e+09               NaN   23.000000          146.510000   \n",
       "50%     5.775407e+09               NaN   33.000000          218.110000   \n",
       "75%     7.951907e+09               NaN   41.000000          275.840000   \n",
       "max     9.957239e+09               NaN   50.000000          348.820000   \n",
       "\n",
       "       payment_method  \n",
       "count             299  \n",
       "unique              3  \n",
       "top              bnpl  \n",
       "freq              119  \n",
       "mean              NaN  \n",
       "std               NaN  \n",
       "min               NaN  \n",
       "25%               NaN  \n",
       "50%               NaN  \n",
       "75%               NaN  \n",
       "max               NaN  "
      ]
     },
     "execution_count": 10,
     "metadata": {},
     "output_type": "execute_result"
    }
   ],
   "source": [
    "df.describe(include='all')"
   ]
  },
  {
   "cell_type": "markdown",
   "metadata": {},
   "source": [
    "---\n",
    "## Analyze the Data\n",
    "\n",
    "### Part 1: Creating Pivot Tables"
   ]
  },
  {
   "cell_type": "code",
   "execution_count": 11,
   "metadata": {},
   "outputs": [
    {
     "data": {
      "text/html": [
       "<div>\n",
       "<style scoped>\n",
       "    .dataframe tbody tr th:only-of-type {\n",
       "        vertical-align: middle;\n",
       "    }\n",
       "\n",
       "    .dataframe tbody tr th {\n",
       "        vertical-align: top;\n",
       "    }\n",
       "\n",
       "    .dataframe thead th {\n",
       "        text-align: right;\n",
       "    }\n",
       "</style>\n",
       "<table border=\"1\" class=\"dataframe\">\n",
       "  <thead>\n",
       "    <tr style=\"text-align: right;\">\n",
       "      <th></th>\n",
       "      <th>order_ref</th>\n",
       "      <th>user_id</th>\n",
       "      <th>user_age</th>\n",
       "      <th>transaction_amount</th>\n",
       "      <th>payment_method</th>\n",
       "      <th>age_group</th>\n",
       "    </tr>\n",
       "  </thead>\n",
       "  <tbody>\n",
       "    <tr>\n",
       "      <th>0</th>\n",
       "      <td>1132281533</td>\n",
       "      <td>I0rmuuMuhEvJNM57</td>\n",
       "      <td>34</td>\n",
       "      <td>184.34</td>\n",
       "      <td>card</td>\n",
       "      <td>33-37</td>\n",
       "    </tr>\n",
       "    <tr>\n",
       "      <th>1</th>\n",
       "      <td>3969891453</td>\n",
       "      <td>qS2JZuEAEDsOP2Gx</td>\n",
       "      <td>50</td>\n",
       "      <td>342.49</td>\n",
       "      <td>bnpl</td>\n",
       "      <td>48-52</td>\n",
       "    </tr>\n",
       "    <tr>\n",
       "      <th>2</th>\n",
       "      <td>4151458626</td>\n",
       "      <td>RpV4Uu1dEszTCOEM</td>\n",
       "      <td>47</td>\n",
       "      <td>146.51</td>\n",
       "      <td>bnpl</td>\n",
       "      <td>43-47</td>\n",
       "    </tr>\n",
       "  </tbody>\n",
       "</table>\n",
       "</div>"
      ],
      "text/plain": [
       "    order_ref           user_id  user_age  transaction_amount payment_method   \n",
       "0  1132281533  I0rmuuMuhEvJNM57        34              184.34           card  \\\n",
       "1  3969891453  qS2JZuEAEDsOP2Gx        50              342.49           bnpl   \n",
       "2  4151458626  RpV4Uu1dEszTCOEM        47              146.51           bnpl   \n",
       "\n",
       "  age_group  \n",
       "0     33-37  \n",
       "1     48-52  \n",
       "2     43-47  "
      ]
     },
     "execution_count": 11,
     "metadata": {},
     "output_type": "execute_result"
    }
   ],
   "source": [
    "# Divide the age into groups with an interval of 5, starting from 18 and ending at 52\n",
    "bins = range(18, 54, 5)\n",
    "labels = ['18-22', '23-27', '28-32', '33-37', '38-42', '43-47', '48-52']\n",
    "\n",
    "# Create age groups\n",
    "df['age_group'] = pd.cut(df['user_age'],\n",
    "                         bins=bins,\n",
    "                         labels=labels,\n",
    "                         include_lowest=True)\n",
    "\n",
    "df.head(3)"
   ]
  },
  {
   "cell_type": "markdown",
   "metadata": {},
   "source": [
    "We will calculate the total transaction amount for each `age_group` and `payment_method`."
   ]
  },
  {
   "cell_type": "code",
   "execution_count": 12,
   "metadata": {},
   "outputs": [
    {
     "data": {
      "text/html": [
       "<div>\n",
       "<style scoped>\n",
       "    .dataframe tbody tr th:only-of-type {\n",
       "        vertical-align: middle;\n",
       "    }\n",
       "\n",
       "    .dataframe tbody tr th {\n",
       "        vertical-align: top;\n",
       "    }\n",
       "\n",
       "    .dataframe thead th {\n",
       "        text-align: right;\n",
       "    }\n",
       "</style>\n",
       "<table border=\"1\" class=\"dataframe\">\n",
       "  <thead>\n",
       "    <tr style=\"text-align: right;\">\n",
       "      <th>payment_method</th>\n",
       "      <th>bnpl</th>\n",
       "      <th>card</th>\n",
       "      <th>paypal</th>\n",
       "    </tr>\n",
       "    <tr>\n",
       "      <th>age_group</th>\n",
       "      <th></th>\n",
       "      <th></th>\n",
       "      <th></th>\n",
       "    </tr>\n",
       "  </thead>\n",
       "  <tbody>\n",
       "    <tr>\n",
       "      <th>18-22</th>\n",
       "      <td>12197.83</td>\n",
       "      <td>5181.06</td>\n",
       "      <td>817.56</td>\n",
       "    </tr>\n",
       "    <tr>\n",
       "      <th>23-27</th>\n",
       "      <td>6863.20</td>\n",
       "      <td>2683.99</td>\n",
       "      <td>581.91</td>\n",
       "    </tr>\n",
       "    <tr>\n",
       "      <th>28-32</th>\n",
       "      <td>434.27</td>\n",
       "      <td>3214.07</td>\n",
       "      <td>1941.47</td>\n",
       "    </tr>\n",
       "    <tr>\n",
       "      <th>33-37</th>\n",
       "      <td>2783.46</td>\n",
       "      <td>4831.88</td>\n",
       "      <td>3342.04</td>\n",
       "    </tr>\n",
       "    <tr>\n",
       "      <th>38-42</th>\n",
       "      <td>1003.37</td>\n",
       "      <td>2181.48</td>\n",
       "      <td>4730.42</td>\n",
       "    </tr>\n",
       "    <tr>\n",
       "      <th>43-47</th>\n",
       "      <td>869.83</td>\n",
       "      <td>2539.43</td>\n",
       "      <td>4361.05</td>\n",
       "    </tr>\n",
       "    <tr>\n",
       "      <th>48-52</th>\n",
       "      <td>958.28</td>\n",
       "      <td>1168.71</td>\n",
       "      <td>1323.71</td>\n",
       "    </tr>\n",
       "  </tbody>\n",
       "</table>\n",
       "</div>"
      ],
      "text/plain": [
       "payment_method      bnpl     card   paypal\n",
       "age_group                                 \n",
       "18-22           12197.83  5181.06   817.56\n",
       "23-27            6863.20  2683.99   581.91\n",
       "28-32             434.27  3214.07  1941.47\n",
       "33-37            2783.46  4831.88  3342.04\n",
       "38-42            1003.37  2181.48  4730.42\n",
       "43-47             869.83  2539.43  4361.05\n",
       "48-52             958.28  1168.71  1323.71"
      ]
     },
     "execution_count": 12,
     "metadata": {},
     "output_type": "execute_result"
    }
   ],
   "source": [
    "# Create pivot table\n",
    "pivot_total_transaction = pd.pivot_table(\n",
    "    df,\n",
    "    values='transaction_amount',\n",
    "    index='age_group',\n",
    "    columns='payment_method',\n",
    "    aggfunc=np.sum\n",
    "    )\n",
    "\n",
    "pivot_total_transaction"
   ]
  },
  {
   "cell_type": "markdown",
   "metadata": {},
   "source": [
    "We will count the number of transactions for each `payment_method` in each `age_group`."
   ]
  },
  {
   "cell_type": "code",
   "execution_count": 13,
   "metadata": {},
   "outputs": [
    {
     "data": {
      "text/html": [
       "<div>\n",
       "<style scoped>\n",
       "    .dataframe tbody tr th:only-of-type {\n",
       "        vertical-align: middle;\n",
       "    }\n",
       "\n",
       "    .dataframe tbody tr th {\n",
       "        vertical-align: top;\n",
       "    }\n",
       "\n",
       "    .dataframe thead th {\n",
       "        text-align: right;\n",
       "    }\n",
       "</style>\n",
       "<table border=\"1\" class=\"dataframe\">\n",
       "  <thead>\n",
       "    <tr style=\"text-align: right;\">\n",
       "      <th>payment_method</th>\n",
       "      <th>bnpl</th>\n",
       "      <th>card</th>\n",
       "      <th>paypal</th>\n",
       "    </tr>\n",
       "    <tr>\n",
       "      <th>age_group</th>\n",
       "      <th></th>\n",
       "      <th></th>\n",
       "      <th></th>\n",
       "    </tr>\n",
       "  </thead>\n",
       "  <tbody>\n",
       "    <tr>\n",
       "      <th>18-22</th>\n",
       "      <td>56</td>\n",
       "      <td>24</td>\n",
       "      <td>5</td>\n",
       "    </tr>\n",
       "    <tr>\n",
       "      <th>23-27</th>\n",
       "      <td>29</td>\n",
       "      <td>11</td>\n",
       "      <td>3</td>\n",
       "    </tr>\n",
       "    <tr>\n",
       "      <th>28-32</th>\n",
       "      <td>3</td>\n",
       "      <td>13</td>\n",
       "      <td>10</td>\n",
       "    </tr>\n",
       "    <tr>\n",
       "      <th>33-37</th>\n",
       "      <td>15</td>\n",
       "      <td>21</td>\n",
       "      <td>17</td>\n",
       "    </tr>\n",
       "    <tr>\n",
       "      <th>38-42</th>\n",
       "      <td>6</td>\n",
       "      <td>10</td>\n",
       "      <td>21</td>\n",
       "    </tr>\n",
       "    <tr>\n",
       "      <th>43-47</th>\n",
       "      <td>6</td>\n",
       "      <td>11</td>\n",
       "      <td>22</td>\n",
       "    </tr>\n",
       "    <tr>\n",
       "      <th>48-52</th>\n",
       "      <td>4</td>\n",
       "      <td>6</td>\n",
       "      <td>6</td>\n",
       "    </tr>\n",
       "  </tbody>\n",
       "</table>\n",
       "</div>"
      ],
      "text/plain": [
       "payment_method  bnpl  card  paypal\n",
       "age_group                         \n",
       "18-22             56    24       5\n",
       "23-27             29    11       3\n",
       "28-32              3    13      10\n",
       "33-37             15    21      17\n",
       "38-42              6    10      21\n",
       "43-47              6    11      22\n",
       "48-52              4     6       6"
      ]
     },
     "execution_count": 13,
     "metadata": {},
     "output_type": "execute_result"
    }
   ],
   "source": [
    "pivot_payment_method = pd.pivot_table(\n",
    "    df,\n",
    "    values='order_ref',\n",
    "    index='age_group',\n",
    "    columns='payment_method',\n",
    "    aggfunc='count'\n",
    "    )\n",
    "\n",
    "pivot_payment_method"
   ]
  },
  {
   "cell_type": "markdown",
   "metadata": {},
   "source": [
    "We will calculate the percentage of BNPL transactions for each age group."
   ]
  },
  {
   "cell_type": "code",
   "execution_count": 14,
   "metadata": {},
   "outputs": [
    {
     "data": {
      "text/html": [
       "<div>\n",
       "<style scoped>\n",
       "    .dataframe tbody tr th:only-of-type {\n",
       "        vertical-align: middle;\n",
       "    }\n",
       "\n",
       "    .dataframe tbody tr th {\n",
       "        vertical-align: top;\n",
       "    }\n",
       "\n",
       "    .dataframe thead th {\n",
       "        text-align: right;\n",
       "    }\n",
       "</style>\n",
       "<table border=\"1\" class=\"dataframe\">\n",
       "  <thead>\n",
       "    <tr style=\"text-align: right;\">\n",
       "      <th>payment_method</th>\n",
       "      <th>bnpl</th>\n",
       "      <th>card</th>\n",
       "      <th>paypal</th>\n",
       "      <th>bnpl_percentage</th>\n",
       "    </tr>\n",
       "    <tr>\n",
       "      <th>age_group</th>\n",
       "      <th></th>\n",
       "      <th></th>\n",
       "      <th></th>\n",
       "      <th></th>\n",
       "    </tr>\n",
       "  </thead>\n",
       "  <tbody>\n",
       "    <tr>\n",
       "      <th>18-22</th>\n",
       "      <td>56</td>\n",
       "      <td>24</td>\n",
       "      <td>5</td>\n",
       "      <td>65.88</td>\n",
       "    </tr>\n",
       "    <tr>\n",
       "      <th>23-27</th>\n",
       "      <td>29</td>\n",
       "      <td>11</td>\n",
       "      <td>3</td>\n",
       "      <td>67.44</td>\n",
       "    </tr>\n",
       "    <tr>\n",
       "      <th>28-32</th>\n",
       "      <td>3</td>\n",
       "      <td>13</td>\n",
       "      <td>10</td>\n",
       "      <td>11.54</td>\n",
       "    </tr>\n",
       "    <tr>\n",
       "      <th>33-37</th>\n",
       "      <td>15</td>\n",
       "      <td>21</td>\n",
       "      <td>17</td>\n",
       "      <td>28.30</td>\n",
       "    </tr>\n",
       "    <tr>\n",
       "      <th>38-42</th>\n",
       "      <td>6</td>\n",
       "      <td>10</td>\n",
       "      <td>21</td>\n",
       "      <td>16.22</td>\n",
       "    </tr>\n",
       "    <tr>\n",
       "      <th>43-47</th>\n",
       "      <td>6</td>\n",
       "      <td>11</td>\n",
       "      <td>22</td>\n",
       "      <td>15.38</td>\n",
       "    </tr>\n",
       "    <tr>\n",
       "      <th>48-52</th>\n",
       "      <td>4</td>\n",
       "      <td>6</td>\n",
       "      <td>6</td>\n",
       "      <td>25.00</td>\n",
       "    </tr>\n",
       "  </tbody>\n",
       "</table>\n",
       "</div>"
      ],
      "text/plain": [
       "payment_method  bnpl  card  paypal  bnpl_percentage\n",
       "age_group                                          \n",
       "18-22             56    24       5            65.88\n",
       "23-27             29    11       3            67.44\n",
       "28-32              3    13      10            11.54\n",
       "33-37             15    21      17            28.30\n",
       "38-42              6    10      21            16.22\n",
       "43-47              6    11      22            15.38\n",
       "48-52              4     6       6            25.00"
      ]
     },
     "execution_count": 14,
     "metadata": {},
     "output_type": "execute_result"
    }
   ],
   "source": [
    "pivot_payment_method['bnpl_percentage'] = round((pivot_payment_method['bnpl'] / pivot_payment_method.sum(axis=1)) * 100, 2)\n",
    "\n",
    "pivot_payment_method"
   ]
  },
  {
   "cell_type": "markdown",
   "metadata": {},
   "source": [
    "---\n",
    "## Visualize the Results\n",
    "\n",
    "### Part 2: Creating Bar Chart\n",
    "\n",
    "Show the share of BNPL transactions as a percentage of total transactions for each age group."
   ]
  },
  {
   "cell_type": "code",
   "execution_count": 15,
   "metadata": {},
   "outputs": [
    {
     "data": {
      "image/png": "[encoded data removed]",
      "text/plain": [
       "<Figure size 1600x900 with 1 Axes>"
      ]
     },
     "metadata": {},
     "output_type": "display_data"
    }
   ],
   "source": [
    "# Create bar chart\n",
    "fig, ax = plt.subplots(figsize=(16, 9))\n",
    "\n",
    "# Get the data for colors\n",
    "bnpl_percentage = pivot_payment_method['bnpl_percentage']\n",
    "colors = ['tab:green' if val == bnpl_percentage.max() else\n",
    "          'tab:orange' if val == bnpl_percentage.min() else\n",
    "          'tab:blue' for val in bnpl_percentage]\n",
    "\n",
    "bars = pivot_payment_method['bnpl_percentage'].plot(kind='bar', ax=ax, color=colors)\n",
    "ax.set_title('Share of BNPL Transactions', fontsize=20)\n",
    "ax.set_xlabel('')\n",
    "ax.set_ylabel('Percentage of Total Transactions\\n', fontsize=16)\n",
    "ax.tick_params(axis='both', labelsize=14)\n",
    "\n",
    "# Add annotations for each bar\n",
    "for bar in bars.patches:\n",
    "    ax.annotate(format(bar.get_height(), '.1f'),\n",
    "                (bar.get_x() + bar.get_width() / 2, bar.get_height() + 2.5),\n",
    "                ha='center', va='center',\n",
    "                size=16, xytext=(0, 8),\n",
    "                textcoords='offset points')\n",
    "\n",
    "ax.set_ylim(0, 80)\n",
    "\n",
    "plt.show()"
   ]
  },
  {
   "cell_type": "markdown",
   "metadata": {},
   "source": [
    "---\n",
    "## Interpret the Results"
   ]
  },
  {
   "cell_type": "code",
   "execution_count": null,
   "metadata": {},
   "outputs": [],
   "source": []
  }
 ],
 "metadata": {
  "kernelspec": {
   "display_name": "base",
   "language": "python",
   "name": "python3"
  },
  "language_info": {
   "codemirror_mode": {
    "name": "ipython",
    "version": 3
   },
   "file_extension": ".py",
   "mimetype": "text/x-python",
   "name": "python",
   "nbconvert_exporter": "python",
   "pygments_lexer": "ipython3",
   "version": "3.10.9"
  },
  "orig_nbformat": 4
 },
 "nbformat": 4,
 "nbformat_minor": 2
}
