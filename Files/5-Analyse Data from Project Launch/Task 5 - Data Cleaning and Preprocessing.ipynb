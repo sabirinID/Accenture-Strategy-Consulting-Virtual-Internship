{
 "cells": [
  {
   "cell_type": "markdown",
   "metadata": {},
   "source": [
    "# Data Cleaning and Preprocessing\n",
    "\n",
    "## Import the Packages"
   ]
  },
  {
   "cell_type": "code",
   "execution_count": 1,
   "metadata": {},
   "outputs": [],
   "source": [
    "# Data manipulation\n",
    "import numpy as np\n",
    "import pandas as pd\n",
    "import datetime as dt\n",
    "\n",
    "# Data visualization\n",
    "import matplotlib as mpl\n",
    "import matplotlib.pyplot as plt\n",
    "import seaborn as sns\n",
    "\n",
    "# Shows plots in jupyter notebook\n",
    "%matplotlib inline\n",
    "\n",
    "# Set plot style\n",
    "sns.set(color_codes=True)\n",
    "\n",
    "# Ignore warning\n",
    "import warnings\n",
    "warnings.filterwarnings('ignore')"
   ]
  },
  {
   "cell_type": "code",
   "execution_count": 2,
   "metadata": {},
   "outputs": [],
   "source": [
    "pd.set_option('display.max_columns', None)\n",
    "pd.set_option('display.max_rows', None)"
   ]
  },
  {
   "cell_type": "code",
   "execution_count": 3,
   "metadata": {},
   "outputs": [
    {
     "name": "stdout",
     "output_type": "stream",
     "text": [
      "NumPy 1.23.5\n",
      "Pandas 2.0.1\n",
      "Matplotlib 3.7.1\n",
      "Seaborn 0.12.2\n"
     ]
    }
   ],
   "source": [
    "print('NumPy', np.__version__)\n",
    "print('Pandas', pd.__version__)\n",
    "print('Matplotlib', mpl.__version__)\n",
    "print('Seaborn', sns.__version__)"
   ]
  },
  {
   "cell_type": "markdown",
   "metadata": {},
   "source": [
    "---\n",
    "## Load the Data"
   ]
  },
  {
   "cell_type": "code",
   "execution_count": 4,
   "metadata": {},
   "outputs": [],
   "source": [
    "link = 'https://github.com/sabirinID/Accenture-Strategy-Consulting-Virtual-Internship/raw/main/Files/5-Analyse%20Data%20from%20Project%20Launch/Task%205%20-%20Forage%20Accenture%20BNPL%20Dataset.xlsx'\n",
    "\n",
    "df = pd.read_excel(link, header=0)"
   ]
  },
  {
   "cell_type": "code",
   "execution_count": 5,
   "metadata": {},
   "outputs": [
    {
     "data": {
      "text/html": [
       "<div>\n",
       "<style scoped>\n",
       "    .dataframe tbody tr th:only-of-type {\n",
       "        vertical-align: middle;\n",
       "    }\n",
       "\n",
       "    .dataframe tbody tr th {\n",
       "        vertical-align: top;\n",
       "    }\n",
       "\n",
       "    .dataframe thead th {\n",
       "        text-align: right;\n",
       "    }\n",
       "</style>\n",
       "<table border=\"1\" class=\"dataframe\">\n",
       "  <thead>\n",
       "    <tr style=\"text-align: right;\">\n",
       "      <th></th>\n",
       "      <th>order_ref</th>\n",
       "      <th>user_id</th>\n",
       "      <th>user_age</th>\n",
       "      <th>transaction_amount</th>\n",
       "      <th>payment_method</th>\n",
       "    </tr>\n",
       "  </thead>\n",
       "  <tbody>\n",
       "    <tr>\n",
       "      <th>0</th>\n",
       "      <td>1132281533</td>\n",
       "      <td>I0rmuuMuhEvJNM57</td>\n",
       "      <td>34</td>\n",
       "      <td>184.34</td>\n",
       "      <td>card</td>\n",
       "    </tr>\n",
       "    <tr>\n",
       "      <th>1</th>\n",
       "      <td>3969891453</td>\n",
       "      <td>qS2JZuEAEDsOP2Gx</td>\n",
       "      <td>50</td>\n",
       "      <td>342.49</td>\n",
       "      <td>bnpl</td>\n",
       "    </tr>\n",
       "    <tr>\n",
       "      <th>2</th>\n",
       "      <td>4151458626</td>\n",
       "      <td>RpV4Uu1dEszTCOEM</td>\n",
       "      <td>47</td>\n",
       "      <td>146.51</td>\n",
       "      <td>bnpl</td>\n",
       "    </tr>\n",
       "  </tbody>\n",
       "</table>\n",
       "</div>"
      ],
      "text/plain": [
       "    order_ref           user_id  user_age  transaction_amount payment_method\n",
       "0  1132281533  I0rmuuMuhEvJNM57        34              184.34           card\n",
       "1  3969891453  qS2JZuEAEDsOP2Gx        50              342.49           bnpl\n",
       "2  4151458626  RpV4Uu1dEszTCOEM        47              146.51           bnpl"
      ]
     },
     "execution_count": 5,
     "metadata": {},
     "output_type": "execute_result"
    }
   ],
   "source": [
    "df.head(3)"
   ]
  },
  {
   "cell_type": "code",
   "execution_count": 6,
   "metadata": {},
   "outputs": [
    {
     "data": {
      "text/html": [
       "<div>\n",
       "<style scoped>\n",
       "    .dataframe tbody tr th:only-of-type {\n",
       "        vertical-align: middle;\n",
       "    }\n",
       "\n",
       "    .dataframe tbody tr th {\n",
       "        vertical-align: top;\n",
       "    }\n",
       "\n",
       "    .dataframe thead th {\n",
       "        text-align: right;\n",
       "    }\n",
       "</style>\n",
       "<table border=\"1\" class=\"dataframe\">\n",
       "  <thead>\n",
       "    <tr style=\"text-align: right;\">\n",
       "      <th></th>\n",
       "      <th>order_ref</th>\n",
       "      <th>user_id</th>\n",
       "      <th>user_age</th>\n",
       "      <th>transaction_amount</th>\n",
       "      <th>payment_method</th>\n",
       "    </tr>\n",
       "  </thead>\n",
       "  <tbody>\n",
       "    <tr>\n",
       "      <th>296</th>\n",
       "      <td>4547464795</td>\n",
       "      <td>ccsFZwawm475aTiw</td>\n",
       "      <td>24</td>\n",
       "      <td>210.43</td>\n",
       "      <td>paypal</td>\n",
       "    </tr>\n",
       "    <tr>\n",
       "      <th>297</th>\n",
       "      <td>6752905764</td>\n",
       "      <td>9V5cb1KKRXigAt2E</td>\n",
       "      <td>25</td>\n",
       "      <td>137.26</td>\n",
       "      <td>paypal</td>\n",
       "    </tr>\n",
       "    <tr>\n",
       "      <th>298</th>\n",
       "      <td>3989227284</td>\n",
       "      <td>kDK4Vp6KTf1LUV5d</td>\n",
       "      <td>49</td>\n",
       "      <td>185.29</td>\n",
       "      <td>paypal</td>\n",
       "    </tr>\n",
       "  </tbody>\n",
       "</table>\n",
       "</div>"
      ],
      "text/plain": [
       "      order_ref           user_id  user_age  transaction_amount payment_method\n",
       "296  4547464795  ccsFZwawm475aTiw        24              210.43         paypal\n",
       "297  6752905764  9V5cb1KKRXigAt2E        25              137.26         paypal\n",
       "298  3989227284  kDK4Vp6KTf1LUV5d        49              185.29         paypal"
      ]
     },
     "execution_count": 6,
     "metadata": {},
     "output_type": "execute_result"
    }
   ],
   "source": [
    "df.tail(3)"
   ]
  },
  {
   "cell_type": "code",
   "execution_count": 7,
   "metadata": {},
   "outputs": [
    {
     "name": "stdout",
     "output_type": "stream",
     "text": [
      "<class 'pandas.core.frame.DataFrame'>\n",
      "RangeIndex: 299 entries, 0 to 298\n",
      "Data columns (total 5 columns):\n",
      " #   Column              Non-Null Count  Dtype  \n",
      "---  ------              --------------  -----  \n",
      " 0   order_ref           299 non-null    int64  \n",
      " 1   user_id             299 non-null    object \n",
      " 2   user_age            299 non-null    int64  \n",
      " 3   transaction_amount  299 non-null    float64\n",
      " 4   payment_method      299 non-null    object \n",
      "dtypes: float64(1), int64(2), object(2)\n",
      "memory usage: 11.8+ KB\n"
     ]
    }
   ],
   "source": [
    "df.info()"
   ]
  },
  {
   "cell_type": "markdown",
   "metadata": {},
   "source": [
    "---\n",
    "## Clean and Preprocess the Data"
   ]
  },
  {
   "cell_type": "markdown",
   "metadata": {},
   "source": [
    "### Check the data for missing values, outliers, or errors"
   ]
  },
  {
   "cell_type": "code",
   "execution_count": 8,
   "metadata": {},
   "outputs": [
    {
     "data": {
      "text/plain": [
       "0"
      ]
     },
     "execution_count": 8,
     "metadata": {},
     "output_type": "execute_result"
    }
   ],
   "source": [
    "df.isna().sum().sum()"
   ]
  },
  {
   "cell_type": "code",
   "execution_count": 9,
   "metadata": {},
   "outputs": [
    {
     "data": {
      "text/plain": [
       "0"
      ]
     },
     "execution_count": 9,
     "metadata": {},
     "output_type": "execute_result"
    }
   ],
   "source": [
    "df.duplicated().sum()"
   ]
  },
  {
   "cell_type": "code",
   "execution_count": 10,
   "metadata": {},
   "outputs": [
    {
     "data": {
      "text/html": [
       "<div>\n",
       "<style scoped>\n",
       "    .dataframe tbody tr th:only-of-type {\n",
       "        vertical-align: middle;\n",
       "    }\n",
       "\n",
       "    .dataframe tbody tr th {\n",
       "        vertical-align: top;\n",
       "    }\n",
       "\n",
       "    .dataframe thead th {\n",
       "        text-align: right;\n",
       "    }\n",
       "</style>\n",
       "<table border=\"1\" class=\"dataframe\">\n",
       "  <thead>\n",
       "    <tr style=\"text-align: right;\">\n",
       "      <th></th>\n",
       "      <th>order_ref</th>\n",
       "      <th>user_id</th>\n",
       "      <th>user_age</th>\n",
       "      <th>transaction_amount</th>\n",
       "      <th>payment_method</th>\n",
       "    </tr>\n",
       "  </thead>\n",
       "  <tbody>\n",
       "    <tr>\n",
       "      <th>count</th>\n",
       "      <td>2.990000e+02</td>\n",
       "      <td>299</td>\n",
       "      <td>299.000000</td>\n",
       "      <td>299.000000</td>\n",
       "      <td>299</td>\n",
       "    </tr>\n",
       "    <tr>\n",
       "      <th>unique</th>\n",
       "      <td>NaN</td>\n",
       "      <td>299</td>\n",
       "      <td>NaN</td>\n",
       "      <td>NaN</td>\n",
       "      <td>3</td>\n",
       "    </tr>\n",
       "    <tr>\n",
       "      <th>top</th>\n",
       "      <td>NaN</td>\n",
       "      <td>I0rmuuMuhEvJNM57</td>\n",
       "      <td>NaN</td>\n",
       "      <td>NaN</td>\n",
       "      <td>bnpl</td>\n",
       "    </tr>\n",
       "    <tr>\n",
       "      <th>freq</th>\n",
       "      <td>NaN</td>\n",
       "      <td>1</td>\n",
       "      <td>NaN</td>\n",
       "      <td>NaN</td>\n",
       "      <td>119</td>\n",
       "    </tr>\n",
       "    <tr>\n",
       "      <th>mean</th>\n",
       "      <td>5.640905e+09</td>\n",
       "      <td>NaN</td>\n",
       "      <td>32.334448</td>\n",
       "      <td>214.076990</td>\n",
       "      <td>NaN</td>\n",
       "    </tr>\n",
       "    <tr>\n",
       "      <th>std</th>\n",
       "      <td>2.645584e+09</td>\n",
       "      <td>NaN</td>\n",
       "      <td>10.075646</td>\n",
       "      <td>76.846945</td>\n",
       "      <td>NaN</td>\n",
       "    </tr>\n",
       "    <tr>\n",
       "      <th>min</th>\n",
       "      <td>1.012455e+09</td>\n",
       "      <td>NaN</td>\n",
       "      <td>18.000000</td>\n",
       "      <td>83.210000</td>\n",
       "      <td>NaN</td>\n",
       "    </tr>\n",
       "    <tr>\n",
       "      <th>25%</th>\n",
       "      <td>3.395445e+09</td>\n",
       "      <td>NaN</td>\n",
       "      <td>23.000000</td>\n",
       "      <td>146.510000</td>\n",
       "      <td>NaN</td>\n",
       "    </tr>\n",
       "    <tr>\n",
       "      <th>50%</th>\n",
       "      <td>5.775407e+09</td>\n",
       "      <td>NaN</td>\n",
       "      <td>33.000000</td>\n",
       "      <td>218.110000</td>\n",
       "      <td>NaN</td>\n",
       "    </tr>\n",
       "    <tr>\n",
       "      <th>75%</th>\n",
       "      <td>7.951907e+09</td>\n",
       "      <td>NaN</td>\n",
       "      <td>41.000000</td>\n",
       "      <td>275.840000</td>\n",
       "      <td>NaN</td>\n",
       "    </tr>\n",
       "    <tr>\n",
       "      <th>max</th>\n",
       "      <td>9.957239e+09</td>\n",
       "      <td>NaN</td>\n",
       "      <td>50.000000</td>\n",
       "      <td>348.820000</td>\n",
       "      <td>NaN</td>\n",
       "    </tr>\n",
       "  </tbody>\n",
       "</table>\n",
       "</div>"
      ],
      "text/plain": [
       "           order_ref           user_id    user_age  transaction_amount   \n",
       "count   2.990000e+02               299  299.000000          299.000000  \\\n",
       "unique           NaN               299         NaN                 NaN   \n",
       "top              NaN  I0rmuuMuhEvJNM57         NaN                 NaN   \n",
       "freq             NaN                 1         NaN                 NaN   \n",
       "mean    5.640905e+09               NaN   32.334448          214.076990   \n",
       "std     2.645584e+09               NaN   10.075646           76.846945   \n",
       "min     1.012455e+09               NaN   18.000000           83.210000   \n",
       "25%     3.395445e+09               NaN   23.000000          146.510000   \n",
       "50%     5.775407e+09               NaN   33.000000          218.110000   \n",
       "75%     7.951907e+09               NaN   41.000000          275.840000   \n",
       "max     9.957239e+09               NaN   50.000000          348.820000   \n",
       "\n",
       "       payment_method  \n",
       "count             299  \n",
       "unique              3  \n",
       "top              bnpl  \n",
       "freq              119  \n",
       "mean              NaN  \n",
       "std               NaN  \n",
       "min               NaN  \n",
       "25%               NaN  \n",
       "50%               NaN  \n",
       "75%               NaN  \n",
       "max               NaN  "
      ]
     },
     "execution_count": 10,
     "metadata": {},
     "output_type": "execute_result"
    }
   ],
   "source": [
    "df.describe(include='all')"
   ]
  },
  {
   "cell_type": "markdown",
   "metadata": {},
   "source": [
    "---\n",
    "## Analyze the Data\n",
    "\n",
    "### Part 1: Creating Pivot Tables"
   ]
  },
  {
   "cell_type": "code",
   "execution_count": 11,
   "metadata": {},
   "outputs": [
    {
     "data": {
      "text/html": [
       "<div>\n",
       "<style scoped>\n",
       "    .dataframe tbody tr th:only-of-type {\n",
       "        vertical-align: middle;\n",
       "    }\n",
       "\n",
       "    .dataframe tbody tr th {\n",
       "        vertical-align: top;\n",
       "    }\n",
       "\n",
       "    .dataframe thead th {\n",
       "        text-align: right;\n",
       "    }\n",
       "</style>\n",
       "<table border=\"1\" class=\"dataframe\">\n",
       "  <thead>\n",
       "    <tr style=\"text-align: right;\">\n",
       "      <th></th>\n",
       "      <th>order_ref</th>\n",
       "      <th>user_id</th>\n",
       "      <th>user_age</th>\n",
       "      <th>transaction_amount</th>\n",
       "      <th>payment_method</th>\n",
       "      <th>age_group</th>\n",
       "    </tr>\n",
       "  </thead>\n",
       "  <tbody>\n",
       "    <tr>\n",
       "      <th>0</th>\n",
       "      <td>1132281533</td>\n",
       "      <td>I0rmuuMuhEvJNM57</td>\n",
       "      <td>34</td>\n",
       "      <td>184.34</td>\n",
       "      <td>card</td>\n",
       "      <td>33-37</td>\n",
       "    </tr>\n",
       "    <tr>\n",
       "      <th>1</th>\n",
       "      <td>3969891453</td>\n",
       "      <td>qS2JZuEAEDsOP2Gx</td>\n",
       "      <td>50</td>\n",
       "      <td>342.49</td>\n",
       "      <td>bnpl</td>\n",
       "      <td>48-52</td>\n",
       "    </tr>\n",
       "    <tr>\n",
       "      <th>2</th>\n",
       "      <td>4151458626</td>\n",
       "      <td>RpV4Uu1dEszTCOEM</td>\n",
       "      <td>47</td>\n",
       "      <td>146.51</td>\n",
       "      <td>bnpl</td>\n",
       "      <td>43-47</td>\n",
       "    </tr>\n",
       "  </tbody>\n",
       "</table>\n",
       "</div>"
      ],
      "text/plain": [
       "    order_ref           user_id  user_age  transaction_amount payment_method   \n",
       "0  1132281533  I0rmuuMuhEvJNM57        34              184.34           card  \\\n",
       "1  3969891453  qS2JZuEAEDsOP2Gx        50              342.49           bnpl   \n",
       "2  4151458626  RpV4Uu1dEszTCOEM        47              146.51           bnpl   \n",
       "\n",
       "  age_group  \n",
       "0     33-37  \n",
       "1     48-52  \n",
       "2     43-47  "
      ]
     },
     "execution_count": 11,
     "metadata": {},
     "output_type": "execute_result"
    }
   ],
   "source": [
    "# Divide the age into groups with an interval of 5, starting from 18 and ending at 52\n",
    "bins = range(18, 54, 5)\n",
    "labels = ['18-22', '23-27', '28-32', '33-37', '38-42', '43-47', '48-52']\n",
    "\n",
    "# Create age groups\n",
    "df['age_group'] = pd.cut(df['user_age'],\n",
    "                         bins=bins,\n",
    "                         labels=labels,\n",
    "                         include_lowest=True)\n",
    "\n",
    "df.head(3)"
   ]
  },
  {
   "cell_type": "markdown",
   "metadata": {},
   "source": [
    "We will calculate the total transaction amount for each `age_group` and `payment_method`."
   ]
  },
  {
   "cell_type": "code",
   "execution_count": 12,
   "metadata": {},
   "outputs": [
    {
     "data": {
      "text/html": [
       "<div>\n",
       "<style scoped>\n",
       "    .dataframe tbody tr th:only-of-type {\n",
       "        vertical-align: middle;\n",
       "    }\n",
       "\n",
       "    .dataframe tbody tr th {\n",
       "        vertical-align: top;\n",
       "    }\n",
       "\n",
       "    .dataframe thead th {\n",
       "        text-align: right;\n",
       "    }\n",
       "</style>\n",
       "<table border=\"1\" class=\"dataframe\">\n",
       "  <thead>\n",
       "    <tr style=\"text-align: right;\">\n",
       "      <th>payment_method</th>\n",
       "      <th>bnpl</th>\n",
       "      <th>card</th>\n",
       "      <th>paypal</th>\n",
       "    </tr>\n",
       "    <tr>\n",
       "      <th>age_group</th>\n",
       "      <th></th>\n",
       "      <th></th>\n",
       "      <th></th>\n",
       "    </tr>\n",
       "  </thead>\n",
       "  <tbody>\n",
       "    <tr>\n",
       "      <th>18-22</th>\n",
       "      <td>12197.83</td>\n",
       "      <td>5181.06</td>\n",
       "      <td>817.56</td>\n",
       "    </tr>\n",
       "    <tr>\n",
       "      <th>23-27</th>\n",
       "      <td>6863.20</td>\n",
       "      <td>2683.99</td>\n",
       "      <td>581.91</td>\n",
       "    </tr>\n",
       "    <tr>\n",
       "      <th>28-32</th>\n",
       "      <td>434.27</td>\n",
       "      <td>3214.07</td>\n",
       "      <td>1941.47</td>\n",
       "    </tr>\n",
       "    <tr>\n",
       "      <th>33-37</th>\n",
       "      <td>2783.46</td>\n",
       "      <td>4831.88</td>\n",
       "      <td>3342.04</td>\n",
       "    </tr>\n",
       "    <tr>\n",
       "      <th>38-42</th>\n",
       "      <td>1003.37</td>\n",
       "      <td>2181.48</td>\n",
       "      <td>4730.42</td>\n",
       "    </tr>\n",
       "    <tr>\n",
       "      <th>43-47</th>\n",
       "      <td>869.83</td>\n",
       "      <td>2539.43</td>\n",
       "      <td>4361.05</td>\n",
       "    </tr>\n",
       "    <tr>\n",
       "      <th>48-52</th>\n",
       "      <td>958.28</td>\n",
       "      <td>1168.71</td>\n",
       "      <td>1323.71</td>\n",
       "    </tr>\n",
       "  </tbody>\n",
       "</table>\n",
       "</div>"
      ],
      "text/plain": [
       "payment_method      bnpl     card   paypal\n",
       "age_group                                 \n",
       "18-22           12197.83  5181.06   817.56\n",
       "23-27            6863.20  2683.99   581.91\n",
       "28-32             434.27  3214.07  1941.47\n",
       "33-37            2783.46  4831.88  3342.04\n",
       "38-42            1003.37  2181.48  4730.42\n",
       "43-47             869.83  2539.43  4361.05\n",
       "48-52             958.28  1168.71  1323.71"
      ]
     },
     "execution_count": 12,
     "metadata": {},
     "output_type": "execute_result"
    }
   ],
   "source": [
    "# Create a pivot table with the sum of 'transaction_amount' for each 'age_group' and 'payment_method'\n",
    "pivot_total_transaction_amount = pd.pivot_table(\n",
    "    df,\n",
    "    values='transaction_amount',\n",
    "    index='age_group',\n",
    "    columns='payment_method',\n",
    "    aggfunc=np.sum\n",
    "    )\n",
    "\n",
    "pivot_total_transaction_amount"
   ]
  },
  {
   "cell_type": "markdown",
   "metadata": {},
   "source": [
    "We will count the number of transactions for each `payment_method` in each `age_group`."
   ]
  },
  {
   "cell_type": "code",
   "execution_count": 13,
   "metadata": {},
   "outputs": [
    {
     "data": {
      "text/html": [
       "<div>\n",
       "<style scoped>\n",
       "    .dataframe tbody tr th:only-of-type {\n",
       "        vertical-align: middle;\n",
       "    }\n",
       "\n",
       "    .dataframe tbody tr th {\n",
       "        vertical-align: top;\n",
       "    }\n",
       "\n",
       "    .dataframe thead th {\n",
       "        text-align: right;\n",
       "    }\n",
       "</style>\n",
       "<table border=\"1\" class=\"dataframe\">\n",
       "  <thead>\n",
       "    <tr style=\"text-align: right;\">\n",
       "      <th>payment_method</th>\n",
       "      <th>bnpl</th>\n",
       "      <th>card</th>\n",
       "      <th>paypal</th>\n",
       "    </tr>\n",
       "    <tr>\n",
       "      <th>age_group</th>\n",
       "      <th></th>\n",
       "      <th></th>\n",
       "      <th></th>\n",
       "    </tr>\n",
       "  </thead>\n",
       "  <tbody>\n",
       "    <tr>\n",
       "      <th>18-22</th>\n",
       "      <td>56</td>\n",
       "      <td>24</td>\n",
       "      <td>5</td>\n",
       "    </tr>\n",
       "    <tr>\n",
       "      <th>23-27</th>\n",
       "      <td>29</td>\n",
       "      <td>11</td>\n",
       "      <td>3</td>\n",
       "    </tr>\n",
       "    <tr>\n",
       "      <th>28-32</th>\n",
       "      <td>3</td>\n",
       "      <td>13</td>\n",
       "      <td>10</td>\n",
       "    </tr>\n",
       "    <tr>\n",
       "      <th>33-37</th>\n",
       "      <td>15</td>\n",
       "      <td>21</td>\n",
       "      <td>17</td>\n",
       "    </tr>\n",
       "    <tr>\n",
       "      <th>38-42</th>\n",
       "      <td>6</td>\n",
       "      <td>10</td>\n",
       "      <td>21</td>\n",
       "    </tr>\n",
       "    <tr>\n",
       "      <th>43-47</th>\n",
       "      <td>6</td>\n",
       "      <td>11</td>\n",
       "      <td>22</td>\n",
       "    </tr>\n",
       "    <tr>\n",
       "      <th>48-52</th>\n",
       "      <td>4</td>\n",
       "      <td>6</td>\n",
       "      <td>6</td>\n",
       "    </tr>\n",
       "  </tbody>\n",
       "</table>\n",
       "</div>"
      ],
      "text/plain": [
       "payment_method  bnpl  card  paypal\n",
       "age_group                         \n",
       "18-22             56    24       5\n",
       "23-27             29    11       3\n",
       "28-32              3    13      10\n",
       "33-37             15    21      17\n",
       "38-42              6    10      21\n",
       "43-47              6    11      22\n",
       "48-52              4     6       6"
      ]
     },
     "execution_count": 13,
     "metadata": {},
     "output_type": "execute_result"
    }
   ],
   "source": [
    "# Create a pivot table with the count of 'order_ref' for each 'age_group' and 'payment_method'\n",
    "pivot_total_order_ref = pd.pivot_table(\n",
    "    df,\n",
    "    values='order_ref',\n",
    "    index='age_group',\n",
    "    columns='payment_method',\n",
    "    aggfunc='count'\n",
    ")\n",
    "\n",
    "pivot_total_order_ref"
   ]
  },
  {
   "cell_type": "markdown",
   "metadata": {},
   "source": [
    "We will calculate the percentage of BNPL transactions for each `age_group`."
   ]
  },
  {
   "cell_type": "code",
   "execution_count": 14,
   "metadata": {},
   "outputs": [
    {
     "data": {
      "text/html": [
       "<div>\n",
       "<style scoped>\n",
       "    .dataframe tbody tr th:only-of-type {\n",
       "        vertical-align: middle;\n",
       "    }\n",
       "\n",
       "    .dataframe tbody tr th {\n",
       "        vertical-align: top;\n",
       "    }\n",
       "\n",
       "    .dataframe thead th {\n",
       "        text-align: right;\n",
       "    }\n",
       "</style>\n",
       "<table border=\"1\" class=\"dataframe\">\n",
       "  <thead>\n",
       "    <tr style=\"text-align: right;\">\n",
       "      <th>payment_method</th>\n",
       "      <th>bnpl</th>\n",
       "      <th>card</th>\n",
       "      <th>paypal</th>\n",
       "      <th>Grand Total</th>\n",
       "    </tr>\n",
       "    <tr>\n",
       "      <th>age_group</th>\n",
       "      <th></th>\n",
       "      <th></th>\n",
       "      <th></th>\n",
       "      <th></th>\n",
       "    </tr>\n",
       "  </thead>\n",
       "  <tbody>\n",
       "    <tr>\n",
       "      <th>18-22</th>\n",
       "      <td>65.882353</td>\n",
       "      <td>28.235294</td>\n",
       "      <td>5.882353</td>\n",
       "      <td>100.0</td>\n",
       "    </tr>\n",
       "    <tr>\n",
       "      <th>23-27</th>\n",
       "      <td>67.441860</td>\n",
       "      <td>25.581395</td>\n",
       "      <td>6.976744</td>\n",
       "      <td>100.0</td>\n",
       "    </tr>\n",
       "    <tr>\n",
       "      <th>28-32</th>\n",
       "      <td>11.538462</td>\n",
       "      <td>50.000000</td>\n",
       "      <td>38.461538</td>\n",
       "      <td>100.0</td>\n",
       "    </tr>\n",
       "    <tr>\n",
       "      <th>33-37</th>\n",
       "      <td>28.301887</td>\n",
       "      <td>39.622642</td>\n",
       "      <td>32.075472</td>\n",
       "      <td>100.0</td>\n",
       "    </tr>\n",
       "    <tr>\n",
       "      <th>38-42</th>\n",
       "      <td>16.216216</td>\n",
       "      <td>27.027027</td>\n",
       "      <td>56.756757</td>\n",
       "      <td>100.0</td>\n",
       "    </tr>\n",
       "    <tr>\n",
       "      <th>43-47</th>\n",
       "      <td>15.384615</td>\n",
       "      <td>28.205128</td>\n",
       "      <td>56.410256</td>\n",
       "      <td>100.0</td>\n",
       "    </tr>\n",
       "    <tr>\n",
       "      <th>48-52</th>\n",
       "      <td>25.000000</td>\n",
       "      <td>37.500000</td>\n",
       "      <td>37.500000</td>\n",
       "      <td>100.0</td>\n",
       "    </tr>\n",
       "  </tbody>\n",
       "</table>\n",
       "</div>"
      ],
      "text/plain": [
       "payment_method       bnpl       card     paypal  Grand Total\n",
       "age_group                                                   \n",
       "18-22           65.882353  28.235294   5.882353        100.0\n",
       "23-27           67.441860  25.581395   6.976744        100.0\n",
       "28-32           11.538462  50.000000  38.461538        100.0\n",
       "33-37           28.301887  39.622642  32.075472        100.0\n",
       "38-42           16.216216  27.027027  56.756757        100.0\n",
       "43-47           15.384615  28.205128  56.410256        100.0\n",
       "48-52           25.000000  37.500000  37.500000        100.0"
      ]
     },
     "execution_count": 14,
     "metadata": {},
     "output_type": "execute_result"
    }
   ],
   "source": [
    "# Calculate the percentage of each 'payment_method' within each 'age_group'\n",
    "pivot_total_transaction = pivot_total_order_ref.apply(lambda x: x / x.sum() * 100, axis=1)\n",
    "\n",
    "# Add a 'Grand Total' column to the pivot table\n",
    "pivot_total_transaction['Grand Total'] = pivot_total_transaction.sum(axis=1)\n",
    "\n",
    "# Format the values to show percentages with two decimal places\n",
    "# pivot_total_transaction = pivot_total_order_ref.applymap('{:.2f}%'.format)\n",
    "\n",
    "pivot_total_transaction"
   ]
  },
  {
   "cell_type": "code",
   "execution_count": 15,
   "metadata": {},
   "outputs": [
    {
     "data": {
      "text/html": [
       "<div>\n",
       "<style scoped>\n",
       "    .dataframe tbody tr th:only-of-type {\n",
       "        vertical-align: middle;\n",
       "    }\n",
       "\n",
       "    .dataframe tbody tr th {\n",
       "        vertical-align: top;\n",
       "    }\n",
       "\n",
       "    .dataframe thead th {\n",
       "        text-align: right;\n",
       "    }\n",
       "</style>\n",
       "<table border=\"1\" class=\"dataframe\">\n",
       "  <thead>\n",
       "    <tr style=\"text-align: right;\">\n",
       "      <th></th>\n",
       "      <th>transaction_amount</th>\n",
       "      <th>user_age</th>\n",
       "    </tr>\n",
       "    <tr>\n",
       "      <th>payment_method</th>\n",
       "      <th></th>\n",
       "      <th></th>\n",
       "    </tr>\n",
       "  </thead>\n",
       "  <tbody>\n",
       "    <tr>\n",
       "      <th>bnpl</th>\n",
       "      <td>25110.24</td>\n",
       "      <td>27.243697</td>\n",
       "    </tr>\n",
       "    <tr>\n",
       "      <th>card</th>\n",
       "      <td>21800.62</td>\n",
       "      <td>32.781250</td>\n",
       "    </tr>\n",
       "    <tr>\n",
       "      <th>paypal</th>\n",
       "      <td>17098.16</td>\n",
       "      <td>39.035714</td>\n",
       "    </tr>\n",
       "  </tbody>\n",
       "</table>\n",
       "</div>"
      ],
      "text/plain": [
       "                transaction_amount   user_age\n",
       "payment_method                               \n",
       "bnpl                      25110.24  27.243697\n",
       "card                      21800.62  32.781250\n",
       "paypal                    17098.16  39.035714"
      ]
     },
     "execution_count": 15,
     "metadata": {},
     "output_type": "execute_result"
    }
   ],
   "source": [
    "# Create a pivot table with the sum of 'transaction_amount' and average of 'user_age' for each 'payment_method'\n",
    "pivot_total_transaction_percentage = pd.pivot_table(\n",
    "    df,\n",
    "    values=['transaction_amount', 'user_age'],\n",
    "    index='payment_method',\n",
    "    aggfunc={'transaction_amount': np.sum, 'user_age': np.mean}\n",
    ")\n",
    "\n",
    "pivot_total_transaction_percentage"
   ]
  },
  {
   "cell_type": "code",
   "execution_count": 16,
   "metadata": {},
   "outputs": [
    {
     "data": {
      "text/html": [
       "<div>\n",
       "<style scoped>\n",
       "    .dataframe tbody tr th:only-of-type {\n",
       "        vertical-align: middle;\n",
       "    }\n",
       "\n",
       "    .dataframe tbody tr th {\n",
       "        vertical-align: top;\n",
       "    }\n",
       "\n",
       "    .dataframe thead th {\n",
       "        text-align: right;\n",
       "    }\n",
       "</style>\n",
       "<table border=\"1\" class=\"dataframe\">\n",
       "  <thead>\n",
       "    <tr style=\"text-align: right;\">\n",
       "      <th></th>\n",
       "      <th>SUM of transaction_amount</th>\n",
       "      <th>AVERAGE of user_age</th>\n",
       "    </tr>\n",
       "    <tr>\n",
       "      <th>payment_method</th>\n",
       "      <th></th>\n",
       "      <th></th>\n",
       "    </tr>\n",
       "  </thead>\n",
       "  <tbody>\n",
       "    <tr>\n",
       "      <th>bnpl</th>\n",
       "      <td>39.229221</td>\n",
       "      <td>27.243697</td>\n",
       "    </tr>\n",
       "    <tr>\n",
       "      <th>card</th>\n",
       "      <td>34.058669</td>\n",
       "      <td>32.781250</td>\n",
       "    </tr>\n",
       "    <tr>\n",
       "      <th>paypal</th>\n",
       "      <td>26.712110</td>\n",
       "      <td>39.035714</td>\n",
       "    </tr>\n",
       "    <tr>\n",
       "      <th>Grand Total</th>\n",
       "      <td>100.000000</td>\n",
       "      <td>33.020221</td>\n",
       "    </tr>\n",
       "  </tbody>\n",
       "</table>\n",
       "</div>"
      ],
      "text/plain": [
       "                SUM of transaction_amount  AVERAGE of user_age\n",
       "payment_method                                                \n",
       "bnpl                            39.229221            27.243697\n",
       "card                            34.058669            32.781250\n",
       "paypal                          26.712110            39.035714\n",
       "Grand Total                    100.000000            33.020221"
      ]
     },
     "execution_count": 16,
     "metadata": {},
     "output_type": "execute_result"
    }
   ],
   "source": [
    "# Calculate the percentage of total 'transaction_amount'\n",
    "total_transaction_amount = pivot_total_transaction_percentage['transaction_amount'].sum()\n",
    "pivot_total_transaction_percentage['SUM of transaction_amount'] = (pivot_total_transaction_percentage['transaction_amount'] / total_transaction_amount) * 100\n",
    "\n",
    "# Drop the original 'transaction_amount' column\n",
    "pivot_total_transaction_percentage.drop(\n",
    "    'transaction_amount',\n",
    "    axis=1,\n",
    "    inplace=True\n",
    ")\n",
    "\n",
    "# Rename the 'user_age' column to 'AVERAGE of user_age'\n",
    "pivot_total_transaction_percentage.rename(\n",
    "    columns={'user_age': 'AVERAGE of user_age'},\n",
    "    inplace=True\n",
    ")\n",
    "\n",
    "# Add a 'Grand Total' row to the pivot table\n",
    "# Calculate the 'Grand Total' for 'SUM of transaction_amount' as the sum of all values\n",
    "pivot_total_transaction_percentage.loc['Grand Total', 'SUM of transaction_amount'] = pivot_total_transaction_percentage['SUM of transaction_amount'].sum()\n",
    "\n",
    "# Calculate the 'Grand Total' for 'AVERAGE of user_age' as the mean of all values\n",
    "pivot_total_transaction_percentage.loc['Grand Total', 'AVERAGE of user_age'] = pivot_total_transaction_percentage['AVERAGE of user_age'].mean()\n",
    "\n",
    "pivot_total_transaction_percentage = pivot_total_transaction_percentage[['SUM of transaction_amount', 'AVERAGE of user_age']]\n",
    "pivot_total_transaction_percentage"
   ]
  },
  {
   "cell_type": "markdown",
   "metadata": {},
   "source": [
    "---\n",
    "## Visualize the Results\n",
    "\n",
    "### Part 2: Creating Bar Chart\n",
    "\n",
    "Show the share of BNPL transactions as a percentage of total transactions for each age group."
   ]
  },
  {
   "cell_type": "code",
   "execution_count": 17,
   "metadata": {},
   "outputs": [
    {
     "data": {
      "image/png": "[encoded data removed]",
      "text/plain": [
       "<Figure size 1600x900 with 1 Axes>"
      ]
     },
     "metadata": {},
     "output_type": "display_data"
    }
   ],
   "source": [
    "fig, ax = plt.subplots(figsize=(16, 9))\n",
    "\n",
    "# Get the data for colors\n",
    "bnpl_percentage = pivot_total_transaction['bnpl']\n",
    "colors = ['tab:orange' if val == bnpl_percentage.max() else\n",
    "          'orange' if val == bnpl_percentage.min() else\n",
    "          'tab:gray' for val in bnpl_percentage]\n",
    "\n",
    "bars = pivot_total_transaction['bnpl'].plot(kind='bar', ax=ax, color=colors)\n",
    "ax.set_title('Share of BNPL Transactions', fontsize=20)\n",
    "ax.set_xlabel('')\n",
    "ax.set_ylabel('Percentage of Total Transactions\\n', fontsize=16)\n",
    "ax.tick_params(axis='both', labelsize=14)\n",
    "\n",
    "# Add annotations for each bar\n",
    "for bar in bars.patches:\n",
    "    ax.annotate(format(bar.get_height(), '.1f'),\n",
    "                (bar.get_x() + bar.get_width() / 2, bar.get_height() + 2.5),\n",
    "                ha='center', va='center',\n",
    "                size=16, xytext=(0, 8),\n",
    "                textcoords='offset points')\n",
    "\n",
    "ax.set_ylim(0, 80)\n",
    "\n",
    "plt.show()"
   ]
  },
  {
   "cell_type": "code",
   "execution_count": 18,
   "metadata": {},
   "outputs": [
    {
     "data": {
      "image/png": "[encoded data removed]",
      "text/plain": [
       "<Figure size 1600x1800 with 2 Axes>"
      ]
     },
     "metadata": {},
     "output_type": "display_data"
    }
   ],
   "source": [
    "fig, (ax1, ax2) = plt.subplots(2, 1, figsize=(16, 18))\n",
    "\n",
    "# Get the index values\n",
    "index_values = pivot_total_transaction_percentage[:-1].index\n",
    "\n",
    "# Plot 'SUM of transaction_amount' data\n",
    "for i, value in enumerate(pivot_total_transaction_percentage[:-1]['SUM of transaction_amount']):\n",
    "    color = 'tab:orange' if pivot_total_transaction_percentage.index[i] == 'bnpl' else 'tab:gray'\n",
    "    ax1.bar(i, value, color=color)\n",
    "    ax1.annotate(f'{value:.1f}%', xy=(i, value + 0.5), ha='center', va='bottom', size=16)\n",
    "\n",
    "ax1.set_title('Percentage of Total Transactions', fontsize=20)\n",
    "ax1.set_xticks(range(len(index_values)))\n",
    "ax1.set_xticklabels(index_values)\n",
    "ax1.set_xlabel('')\n",
    "ax1.set_ylabel('')\n",
    "ax1.set_ylim(0, 50)\n",
    "ax1.tick_params(axis='both', labelsize=16)\n",
    "ax1.grid(False)\n",
    "\n",
    "# Plot 'AVERAGE of user_age' data\n",
    "for i, value in enumerate(pivot_total_transaction_percentage[:-1]['AVERAGE of user_age']):\n",
    "    color = 'tab:orange' if pivot_total_transaction_percentage.index[i] == 'bnpl' else 'tab:gray'\n",
    "    ax2.bar(i, value, color=color)\n",
    "    ax2.annotate(f'{value:.1f}', xy=(i, value + 0.5), ha='center', va='bottom', size=16)\n",
    "\n",
    "ax2.set_title('Average of User Age', fontsize=20)\n",
    "ax2.set_xticks(range(len(index_values)))\n",
    "ax2.set_xticklabels(index_values)\n",
    "ax2.set_xlabel('')\n",
    "ax2.set_ylabel('')\n",
    "ax2.set_ylim(0, 50)\n",
    "ax2.tick_params(axis='both', labelsize=16)\n",
    "ax2.grid(False)\n",
    "\n",
    "plt.tight_layout(pad=2)\n",
    "plt.show()"
   ]
  },
  {
   "cell_type": "code",
   "execution_count": 19,
   "metadata": {},
   "outputs": [],
   "source": [
    "def plot_data(column, title, unit):\n",
    "    plt.figure(figsize=(16, 9))\n",
    "\n",
    "    data = pivot_total_transaction_percentage[:-1]\n",
    "    index_values = data.index\n",
    "\n",
    "    for i, value in enumerate(data[column]):\n",
    "        color = 'tab:orange' if index_values[i] == 'bnpl' else 'tab:gray'\n",
    "        plt.bar(i, value, color=color)\n",
    "        plt.annotate(f'{value:.1f}{unit}', xy=(i, value + .5), ha='center', va='bottom', size=16)\n",
    "\n",
    "    plt.title(title, fontsize=20)\n",
    "    plt.xlabel('')\n",
    "    plt.ylabel('')\n",
    "    plt.ylim(0, 50)\n",
    "    plt.tick_params(axis='both', labelsize=16)\n",
    "    plt.xticks(range(len(index_values)), index_values)\n",
    "    plt.grid(False)\n",
    "    plt.show()"
   ]
  },
  {
   "cell_type": "code",
   "execution_count": 20,
   "metadata": {},
   "outputs": [
    {
     "data": {
      "image/png": "[encoded data removed]",
      "text/plain": [
       "<Figure size 1600x900 with 1 Axes>"
      ]
     },
     "metadata": {},
     "output_type": "display_data"
    }
   ],
   "source": [
    "plot_data('SUM of transaction_amount', 'Percentage of Total Transactions', '%')"
   ]
  },
  {
   "cell_type": "code",
   "execution_count": 21,
   "metadata": {},
   "outputs": [
    {
     "data": {
      "image/png": "[encoded data removed]",
      "text/plain": [
       "<Figure size 1600x900 with 1 Axes>"
      ]
     },
     "metadata": {},
     "output_type": "display_data"
    }
   ],
   "source": [
    "plot_data('AVERAGE of user_age', 'Average of User Age', '')"
   ]
  },
  {
   "cell_type": "markdown",
   "metadata": {},
   "source": [
    "---\n",
    "## Interpret the Results"
   ]
  },
  {
   "cell_type": "code",
   "execution_count": null,
   "metadata": {},
   "outputs": [],
   "source": []
  }
 ],
 "metadata": {
  "kernelspec": {
   "display_name": "base",
   "language": "python",
   "name": "python3"
  },
  "language_info": {
   "codemirror_mode": {
    "name": "ipython",
    "version": 3
   },
   "file_extension": ".py",
   "mimetype": "text/x-python",
   "name": "python",
   "nbconvert_exporter": "python",
   "pygments_lexer": "ipython3",
   "version": "3.10.9"
  },
  "orig_nbformat": 4
 },
 "nbformat": 4,
 "nbformat_minor": 2
}
